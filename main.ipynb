{
 "cells": [
  {
   "cell_type": "code",
   "execution_count": 1,
   "metadata": {},
   "outputs": [],
   "source": [
    "## Import Libraries\n",
    "import pandas as pd\n",
    "import requests\n",
    "from io import BytesIO\n",
    "from collections import defaultdict"
   ]
  },
  {
   "cell_type": "code",
   "execution_count": 3,
   "metadata": {},
   "outputs": [
    {
     "name": "stdout",
     "output_type": "stream",
     "text": [
      "    Country Code         Country\n",
      "0              1           India\n",
      "1             14       Australia\n",
      "2             30          Brazil\n",
      "3             37          Canada\n",
      "4             94       Indonesia\n",
      "5            148     New Zealand\n",
      "6            162     Phillipines\n",
      "7            166           Qatar\n",
      "8            184       Singapore\n",
      "9            189    South Africa\n",
      "10           191       Sri Lanka\n",
      "11           208          Turkey\n",
      "12           214             UAE\n",
      "13           215  United Kingdom\n",
      "14           216   United States\n"
     ]
    }
   ],
   "source": [
    "## Retrieve Data\n",
    "# Define URLs for the datasets\n",
    "\n",
    "restaurant_link = 'https://raw.githubusercontent.com/Papagoat/brain-assessment/main/restaurant_data.json'\n",
    "country_codes_link = 'https://github.com/Papagoat/brain-assessment/blob/main/Country-Code.xlsx?raw=true'\n",
    "\n",
    "# Fetch restaurant data\n",
    "restaurant_response = requests.get(restaurant_link)\n",
    "restaurants_data = restaurant_response.json()\n",
    "\n",
    "# Fetch country codes\n",
    "country_codes_response = requests.get(country_codes_link)\n",
    "country_codes_df = pd.read_excel(BytesIO(country_codes_response.content))\n",
    "\n",
    "# Display the country codes data to verify it has been loaded correctly\n",
    "print(country_codes_df)"
   ]
  }
 ],
 "metadata": {
  "kernelspec": {
   "display_name": "Python 3",
   "language": "python",
   "name": "python3"
  },
  "language_info": {
   "codemirror_mode": {
    "name": "ipython",
    "version": 3
   },
   "file_extension": ".py",
   "mimetype": "text/x-python",
   "name": "python",
   "nbconvert_exporter": "python",
   "pygments_lexer": "ipython3",
   "version": "3.11.0"
  }
 },
 "nbformat": 4,
 "nbformat_minor": 2
}
